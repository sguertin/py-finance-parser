{
 "cells": [
  {
   "cell_type": "markdown",
   "metadata": {},
   "source": [
    "# Analysis of recent bank activity\n",
    "\n",
    "- Transactions pulled from 6/1/2022 - 7/16/2022\n",
    "- Only includes Checking Account Activity"
   ]
  },
  {
   "cell_type": "code",
   "execution_count": 3,
   "metadata": {},
   "outputs": [],
   "source": [
    "from abc import ABCMeta, abstractmethod\n",
    "import csv\n",
    "from dataclasses import dataclass, field\n",
    "from datetime import datetime\n",
    "from decimal import Decimal as decimal\n",
    "from enum import Enum, IntEnum\n",
    "import re\n",
    "from typing import Any\n",
    "\n",
    "from pandas import DataFrame, Series\n",
    "from rich import print\n",
    "\n",
    "from models.filters import Filter, Condition, StringMatchCondition, ValueCondition, DateRangeCondition\n",
    "from models.enums import Category, Column, ColumnIndex, Comparison, Month\n",
    "from helpers import handle_ex\n",
    "from constants import DEFAULT_DATA_DIRECTORY, DEFAULT_CLEANSED_DIRECTORY, DEFAULT_PARSED_DIRECTORY, DEFAULT_RAW_DIRECTORY"
   ]
  },
  {
   "cell_type": "code",
   "execution_count": 4,
   "metadata": {},
   "outputs": [
    {
     "data": {
      "text/html": [
       "<pre style=\"white-space:pre;overflow-x:auto;line-height:normal;font-family:Menlo,'DejaVu Sans Mono',consolas,'Courier New',monospace\">c:\\Projects\\py-finance-parser\\py_finance_parser\\data\n",
       "</pre>\n"
      ],
      "text/plain": [
       "c:\\Projects\\py-finance-parser\\py_finance_parser\\data\n"
      ]
     },
     "metadata": {},
     "output_type": "display_data"
    }
   ],
   "source": [
    "print(DEFAULT_DATA_DIRECTORY)"
   ]
  },
  {
   "cell_type": "markdown",
   "metadata": {},
   "source": [
    "## Define Constants for working with transactions"
   ]
  },
  {
   "cell_type": "code",
   "execution_count": null,
   "metadata": {},
   "outputs": [],
   "source": [
    "RAW_FILEPATH = f\"{DEFAULT_CLEANSED_DIRECTORY}/stmt.csv\"\n",
    "CLEANSED_FILEPATH = f\"{DEFAULT_PARSED_DIRECTORY}/stmt.csv\"\n",
    "PARSED_FILEPATH = f\"{DEFAULT_RAW_DIRECTORY}/stmt.csv\"\n",
    "\n",
    "COLUMN_NAMES = [\"date\", \"description\", \"amount\", \"running balance\", \"category\", \"tags\", \"id\"]"
   ]
  },
  {
   "cell_type": "markdown",
   "metadata": {},
   "source": [
    "## Load and Clean up data\n",
    "- Remove header rows\n",
    "- Remove commas\n",
    "- Convert empty values for amount and balance to 0.0\n",
    "- Save the clensed data"
   ]
  },
  {
   "cell_type": "code",
   "execution_count": null,
   "metadata": {},
   "outputs": [],
   "source": [
    "with open(RAW_FILEPATH, 'r+') as f:\n",
    "    raw_dataset = [row for row in csv.reader(f, dialect='excel')]\n",
    "ZERO = decimal(0)\n",
    "dataset = raw_dataset[8:]\n",
    "for i, row in enumerate(dataset): \n",
    "    month, day, year = row[ColumnIndex.DATE].split(\"/\")\n",
    "    row[ColumnIndex.DATE] = datetime(int(year), int(month), int(day), 0, 0, 0)\n",
    "    row.extend([Category.UNCATEGORIZED, [], i+1])\n",
    "    if row[ColumnIndex.AMOUNT] == \"\":\n",
    "        row[ColumnIndex.AMOUNT] = ZERO\n",
    "    else:\n",
    "        amount = row[ColumnIndex.AMOUNT].replace(\",\",\"\")\n",
    "        row[ColumnIndex.AMOUNT] = decimal(f\"{float(amount):2f}\")\n",
    "        if row[ColumnIndex.AMOUNT] > ZERO:(\n",
    "            row)[ColumnIndex.CATEGORY] = Category.INCOME\n",
    "        row[ColumnIndex.AMOUNT] = abs(row[ColumnIndex.AMOUNT])\n",
    "            \n",
    "    if row[ColumnIndex.RUNNING_BALANCE] == \"\":\n",
    "        row[ColumnIndex.RUNNING_BALANCE] = ZERO\n",
    "    else:\n",
    "        balance = row[ColumnIndex.RUNNING_BALANCE].replace(\",\",\"\")\n",
    "        row[ColumnIndex.RUNNING_BALANCE] = decimal(f\"{float(balance):2f}\")\n",
    "\n",
    "with open(CLEANSED_FILEPATH, \"w+\", newline=\"\") as f:\n",
    "    writer = csv.writer(f, dialect=\"excel\")\n",
    "    writer.writerows(dataset)    "
   ]
  },
  {
   "cell_type": "markdown",
   "metadata": {},
   "source": [
    "## Load The DataFrame"
   ]
  },
  {
   "cell_type": "code",
   "execution_count": null,
   "metadata": {},
   "outputs": [],
   "source": [
    "df = DataFrame(dataset, columns=COLUMN_NAMES)\n",
    "print(f\"There are {df.shape[0]} transactions in the dataset\")"
   ]
  },
  {
   "cell_type": "markdown",
   "metadata": {},
   "source": [
    "## Create Filters\n",
    "- Create list of filters"
   ]
  },
  {
   "cell_type": "code",
   "execution_count": null,
   "metadata": {},
   "outputs": [],
   "source": [
    "# AMAZON_SUBFILTER = DescriptionFilter(\"Amazon\", \"AMZN\")\n",
    "# VENMO_SUBFILTER = DescriptionFilter(\"VenmoFilter\", \"VENMO\")\n",
    "AMAZON_CONDITION = StringMatchCondition(\"AMZN\")\n",
    "VENMO_CONDITION = StringMatchCondition(\"AMZN\")\n",
    "\n",
    "filters: list[Filter] = [\n",
    "    Filter(\"Fraud\", Category.FRAUD, [AMAZON_CONDITION, DateRangeCondition(datetime(2022, 6, 6))]),\n",
    "    Filter(\"Fraud\", Category.FRAUD, [AMAZON_CONDITION, DateRangeCondition(datetime(2022, 7, 11))]),\n",
    "    Filter(\"Fraud\", Category.FRAUD, [AMAZON_CONDITION, DateRangeCondition(datetime(2022, 6, 21))]),\n",
    "    Filter(\"Chris\", Category.WEED, [VENMO_CONDITION, ValueCondition(120.0)]),\n",
    "]\n",
    "# filters: list[DescriptionFilter] = [\n",
    "#     DateRangeFilter(datetime(2022, 6, 5), datetime(2022, 6, 7), AmazonFilter(float(27.87), Category.FRAUD)),\n",
    "#     DateRangeFilter(datetime(2022, 6, 10), datetime(2022, 7, 12), AmazonFilter(float(8.50), Category.FRAUD)),\n",
    "#     DateRangeFilter(datetime(2022, 6, 20), datetime(2022, 6, 22), AmazonFilter(float(9.56), Category.FRAUD)),    \n",
    "#     ValueFilter(\"Chris\", float(120.0), Category.WEED, subfilter=VENMO_SUBFILTER),\n",
    "#     ValueFilter(\"Aza\", float(15.0), Category.GIFTS, subfilter=VENMO_SUBFILTER),\n",
    "#     DescriptionFilter(\"GrubHub\", \"GRUBHUB\", Category.DELIVERY),\n",
    "#     DescriptionFilter(\"Snacks\", \"CHESHIRE GAS\", Category.GROCERIES),\n",
    "#     DescriptionFilter(\"Steam\", \"STEAMGAMES\", Category.ENTERTAINMENT),\n",
    "#     DescriptionFilter(\"McCue-2\", \"MCCUE\", Category.MORTGAGE),\n",
    "#     DescriptionFilter(\"AllState\", \"ALLSTATE\", Category.INSURANCE),\n",
    "#     DescriptionFilter(\"Gym\", \"TENNIS\", Category.FITNESS),\n",
    "#     DescriptionFilter(\"Gym-2\", \"EDGE\\sFITNESS\", Category.FITNESS),\n",
    "#     DescriptionFilter(\"SavingsDeposit\", \"transfer\\sto\\sSAV\", Category.SAVINGS),\n",
    "#     DescriptionFilter(\"Mortgage\", \"McCue\", Category.MORTGAGE),\n",
    "#     DescriptionFilter(\"PSN\", \"PLAYSTATION\", Category.ENTERTAINMENT),\n",
    "#     DescriptionFilter(\"Dunkin\", \"DUNKIN\", Category.TAKEOUT),\n",
    "#     DescriptionFilter(\"Snacks\", \"SAM'S\\sFOOD\", Category.TAKEOUT),\n",
    "#     DescriptionFilter(\"KeepTheChange\", \"KEEP\\sTHE\\sCHANGE\", Category.SAVINGS),\n",
    "#     DescriptionFilter(\"SavingsWithdraw\", \"transfer\\sfrom\\sSAV\", Category.SAVINGS),\n",
    "#     DescriptionFilter(\"Comcast\", \"COMCAST\", Category.INTERNET),\n",
    "#     DescriptionFilter(\"Att\", \"ATT\\sDES\", Category.PHONE),\n",
    "#     DescriptionFilter(\"Peapod\", \"PEAPOD\", Category.GROCERIES),\n",
    "#     DescriptionFilter(\"Patreon\", \"PATREON\\sMEMBER\", Category.ENTERTAINMENT),\n",
    "#     DescriptionFilter(\"Juli'sBills\", \"MAGRATH\", Category.LOANS),\n",
    "#     DescriptionFilter(\"Juli'sBills-2\", \"Magrath\", Category.LOANS),\n",
    "#     DescriptionFilter(\"PetSupplies\", \"PETCO\", Category.PETS),\n",
    "#     DescriptionFilter(\"HouseWork\", \"SM\\sMECHANICAL\\sSERVICES\", Category.GAS),\n",
    "#     DescriptionFilter(\"Aresco\", \"ARESCO\", Category.GROCERIES),\n",
    "#     DescriptionFilter(\"Sunoco\", \"SUNOCO\", Category.GROCERIES),\n",
    "#     DescriptionFilter(\"Affirm\", \"AFFIRM\", Category.LOANS),\n",
    "#     DescriptionFilter(\"LifeInsurance\", \"NEW\\sYORK\\sLIFE\\sDES\", Category.INSURANCE),\n",
    "#     DescriptionFilter(\"Kindle\", \"KINDLE\", Category.ENTERTAINMENT),\n",
    "#     DescriptionFilter(\"YouTube\", \"YOUTUBE\", Category.ENTERTAINMENT),\n",
    "#     DescriptionFilter(\"Fuel\", \"CITGO\", Category.AUTO),\n",
    "#     DescriptionFilter(\"AMEXCreditCard\", \"AMERICA\\sCREDIT\\sCARD\", Category.LOANS),\n",
    "#     DescriptionFilter(\"MCCreditCard\", \"PAYPAL\\sEXTRAS\\sMASTERCARD\", Category.LOANS),\n",
    "#     DescriptionFilter(\"Bilaton\", \"STRYVEFOODS\", Category.GROCERIES),\n",
    "#     DescriptionFilter(\"Theater\", \"THOMASTON\\sOPERA\\sHOUSE\", Category.ENTERTAINMENT),\n",
    "#     DescriptionFilter(\"Electric\", \"CL&P\", Category.ELECTRIC),\n",
    "#     DescriptionFilter(\"PriceChopper\", \"PRICE\\sCHOPPER\", Category.GROCERIES),\n",
    "#     DescriptionFilter(\"IRS\", \"IRS\\sDES\", Category.TAXES),\n",
    "#     DescriptionFilter(\"Vivint\", \"VIVINT\", Category.INSURANCE),\n",
    "#     DescriptionFilter(\"Dropbox\", \"DROPBOX\", Category.INTERNET),\n",
    "#     DescriptionFilter(\"VPN\", \"MOZILLACORP\", Category.INTERNET),\n",
    "#     DescriptionFilter(\"Fairview\", \"FAIRVIEW\", Category.GIFTS),\n",
    "#     DescriptionFilter(\"UpgradeLoad\", \"UPGRADE\", Category.LOANS),\n",
    "#     DescriptionFilter(\"Eversource\", \"EVERSOURCE\", Category.GAS),\n",
    "#     DescriptionFilter(\"CarLoan\", \"CAPITAL\\sONE\\sAUTO\", Category.LOANS),\n",
    "#     DescriptionFilter(\"Chris\", \"TO\\sCHRIS\", Category.WEED),\n",
    "#     DescriptionFilter(\"Aza\", \"TO\\sAZA\", Category.ENTERTAINMENT),\n",
    "#     DescriptionFilter(\"Stryve-2\", \"STRYVE\", Category.GROCERIES),\n",
    "#     DescriptionFilter(\"GasStation\", \"FUEL\\sPLUS\", Category.AUTO),\n",
    "#     DescriptionFilter(\"NetFlix\", \"Netflix\", Category.ENTERTAINMENT), \n",
    "#     AmazonFilter(10.62, Category.ENTERTAINMENT), \n",
    "#     AmazonFilter(11.29, Category.GROCERIES),\n",
    "#     AmazonFilter(53.15, Category.ENTERTAINMENT),\n",
    "#     AmazonFilter(16.84, Category.GROCERIES),\n",
    "#     AmazonFilter(14.13, Category.WEED),\n",
    "#     AmazonFilter(26.12, Category.GROCERIES),\n",
    "#     AmazonFilter(57.40, Category.GROCERIES),\n",
    "#     AmazonFilter(19.30, Category.GROCERIES),\n",
    "#     AmazonFilter(180.78, Category.ENTERTAINMENT),\n",
    "#     AmazonFilter(17.01, Category.ENTERTAINMENT),    \n",
    "# ]\n"
   ]
  },
  {
   "cell_type": "markdown",
   "metadata": {},
   "source": [
    "- Automatically categorize Income as anything > $0.00 \n",
    "- Run uncategorized transactions against filters, matches get category set by filter"
   ]
  },
  {
   "cell_type": "code",
   "execution_count": null,
   "metadata": {},
   "outputs": [],
   "source": [
    "for filter in filters:\n",
    "    uncategorized = df[df.category == Category.UNCATEGORIZED]\n",
    "    if uncategorized.size == 0:\n",
    "        break\n",
    "    matches = filter.match(uncategorized)\n",
    "    matches.category = filter.category\n",
    "    \n",
    "categorized = df[df.category != Category.UNCATEGORIZED]\n",
    "uncategorized = df[df.category == Category.UNCATEGORIZED]\n",
    "print(f\"There are {categorized.size} categorized transactions\")\n",
    "print(f\"There are {uncategorized.size} uncategorized transactions\")\n"
   ]
  },
  {
   "cell_type": "markdown",
   "metadata": {},
   "source": [
    "## Save the results"
   ]
  },
  {
   "cell_type": "code",
   "execution_count": null,
   "metadata": {},
   "outputs": [],
   "source": []
  },
  {
   "cell_type": "markdown",
   "metadata": {},
   "source": [
    "## Analysis of Categorized Transactions"
   ]
  },
  {
   "cell_type": "code",
   "execution_count": null,
   "metadata": {},
   "outputs": [],
   "source": [
    "# CATEGORY_HEADER_TEXT = \"Category\"\n",
    "# ZERO_TOTAL_TEXT = \"$0.00\"\n",
    "# with open(PARSED_FILEPATH, \"r+\") as f:\n",
    "#     trx_list = TransactionList.from_json(f.read())\n",
    "\n",
    "# totals_by_category_by_month: dict[Month, dict[Category, float]] = {}\n",
    "# months = set([Month(trx.date.month) for trx in trx_list.transactions])\n",
    "# for month in months:\n",
    "#     totals_by_category = {}    \n",
    "#     for trx in trx_list.transactions:    \n",
    "#         if trx.date.month == month:\n",
    "#             if trx.category not in totals_by_category.keys():\n",
    "#                 totals_by_category[trx.category] = trx.amount\n",
    "#             else:\n",
    "#                 totals_by_category[trx.category] += trx.amount\n",
    "#     totals_by_category_by_month[month] = totals_by_category\n",
    "    \n",
    "# totals_by_category: dict[Category, dict[Month, float]] = {}\n",
    "# for month, totals_for_month in totals_by_category_by_month.items():    \n",
    "#     for category, total in totals_for_month.items():\n",
    "#         if category not in totals_by_category.keys():\n",
    "#             totals_by_category[category] = {Month(month): total}\n",
    "#         else:\n",
    "#             totals_by_category[category][Month(month)] = total\n",
    "\n",
    "# header_row: list[str] = [\n",
    "#     CATEGORY_HEADER_TEXT\n",
    "# ]\n",
    "# for month in months:\n",
    "#     header_row.append(month.name)\n",
    "\n",
    "# data: list[list[str]] = []\n",
    "# for category, month_totals in totals_by_category.items():\n",
    "#     row = [category.value]\n",
    "#     for month in months:\n",
    "#         if month in month_totals.keys():            \n",
    "#             total = month_totals[month]\n",
    "#             row.append(f\"${total:.2f}\")\n",
    "#         else:\n",
    "#             row.append(ZERO_TOTAL_TEXT)\n",
    "#     data.append(row)\n",
    "\n",
    "# DataFrame(data, columns=header_row)"
   ]
  },
  {
   "cell_type": "code",
   "execution_count": null,
   "metadata": {},
   "outputs": [],
   "source": []
  }
 ],
 "metadata": {
  "kernelspec": {
   "display_name": "Python 3.10.5 ('venv': venv)",
   "language": "python",
   "name": "python3"
  },
  "language_info": {
   "codemirror_mode": {
    "name": "ipython",
    "version": 3
   },
   "file_extension": ".py",
   "mimetype": "text/x-python",
   "name": "python",
   "nbconvert_exporter": "python",
   "pygments_lexer": "ipython3",
   "version": "3.10.5"
  },
  "orig_nbformat": 4,
  "vscode": {
   "interpreter": {
    "hash": "3fedda0cfd4d722938d59dcce482b5cc35abb82ff91e9eeedf1ecbb71b29171d"
   }
  }
 },
 "nbformat": 4,
 "nbformat_minor": 2
}
