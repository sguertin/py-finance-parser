{
 "cells": [
  {
   "cell_type": "markdown",
   "metadata": {},
   "source": [
    "# Analysis of recent bank activity\n",
    "\n",
    "- Transactions pulled from 6/1/2022 - 7/16/2022\n",
    "- Only includes Checking Account Activity"
   ]
  },
  {
   "cell_type": "code",
   "execution_count": null,
   "metadata": {},
   "outputs": [],
   "source": [
    "from abc import ABCMeta, abstractmethod\n",
    "import csv\n",
    "from dataclasses import dataclass, field\n",
    "from datetime import datetime\n",
    "from decimal import Decimal as decimal\n",
    "from enum import Enum, IntEnum\n",
    "from pathlib import Path\n",
    "import re\n",
    "from typing import Any\n",
    "\n",
    "from pandas import DataFrame, Series\n",
    "from rich import print\n",
    "\n",
    "from models.filters import Filter, Condition, StringMatchCondition, ValueCondition, DateRangeCondition\n",
    "from models.enums import Category, Column, ColumnIndex, Comparison, Month\n",
    "from helpers import handle_ex\n",
    "from constants import DEFAULT_DATA_DIRECTORY, DEFAULT_CLEANSED_DIRECTORY, DEFAULT_PARSED_DIRECTORY, DEFAULT_RAW_DIRECTORY"
   ]
  },
  {
   "cell_type": "markdown",
   "metadata": {},
   "source": [
    "## Define Constants for working with transactions"
   ]
  },
  {
   "cell_type": "code",
   "execution_count": null,
   "metadata": {},
   "outputs": [],
   "source": [
    "RAW_FILEPATH = Path(f\"{DEFAULT_RAW_DIRECTORY}/stmt.csv\")\n",
    "CLEANSED_FILEPATH = Path(f\"{DEFAULT_CLEANSED_DIRECTORY}/stmt.csv\")\n",
    "PARSED_FILEPATH = Path(f\"{DEFAULT_PARSED_DIRECTORY}/stmt.csv\")\n",
    "\n",
    "COLUMN_NAMES = [Column.DATE, Column.DESCRIPTION, Column.AMOUNT, Column.RUNNING_BALANCE, Column.CATEGORY, Column.TAGS, Column.ID]\n",
    "COLUMN_NAMES = [column.value for column in COLUMN_NAMES]"
   ]
  },
  {
   "cell_type": "markdown",
   "metadata": {},
   "source": [
    "## Load and Clean up data\n",
    "- Remove header rows\n",
    "- Remove commas\n",
    "- Convert empty values for amount and balance to 0.0\n",
    "- Save the clensed data"
   ]
  },
  {
   "cell_type": "code",
   "execution_count": null,
   "metadata": {},
   "outputs": [],
   "source": [
    "print(f\"Opening {RAW_FILEPATH}...\")\n",
    "if not RAW_FILEPATH.exists():\n",
    "    raise FileNotFoundError(RAW_FILEPATH)\n",
    "with open(RAW_FILEPATH, 'r+') as f:\n",
    "    raw_dataset = [row for row in csv.reader(f, dialect='excel')]\n",
    "ZERO = decimal(0)\n",
    "\n",
    "dataset = raw_dataset[8:]\n",
    "print(f\"Found {len(dataset)} rows in {RAW_FILEPATH}\")\n",
    "for i, row in enumerate(dataset): \n",
    "    month, day, year = row[ColumnIndex.DATE].split(\"/\")\n",
    "    row[ColumnIndex.DATE] = datetime(int(year), int(month), int(day), 0, 0, 0)\n",
    "    row.extend([Category.UNCATEGORIZED, [], i+1])\n",
    "    if row[ColumnIndex.AMOUNT] == \"\":\n",
    "        row[ColumnIndex.AMOUNT] = ZERO\n",
    "    else:\n",
    "        amount = row[ColumnIndex.AMOUNT].replace(\",\",\"\")\n",
    "        row[ColumnIndex.AMOUNT] = decimal(f\"{float(amount):2f}\")\n",
    "        if row[ColumnIndex.AMOUNT] > ZERO:(\n",
    "            row)[ColumnIndex.CATEGORY] = Category.INCOME\n",
    "        row[ColumnIndex.AMOUNT] = abs(row[ColumnIndex.AMOUNT])\n",
    "            \n",
    "    if row[ColumnIndex.RUNNING_BALANCE] == \"\":\n",
    "        row[ColumnIndex.RUNNING_BALANCE] = ZERO\n",
    "    else:\n",
    "        balance = row[ColumnIndex.RUNNING_BALANCE].replace(\",\",\"\")\n",
    "        row[ColumnIndex.RUNNING_BALANCE] = decimal(f\"{float(balance):2f}\")\n",
    "print(f\"Outputting parsed and cleansed data to {CLEANSED_FILEPATH}...\")\n",
    "with open(CLEANSED_FILEPATH, \"w+\", newline=\"\") as f:\n",
    "    writer = csv.writer(f, dialect=\"excel\")\n",
    "    writer.writerows(dataset)\n",
    "print(f\"{CLEANSED_FILEPATH} saved\")"
   ]
  },
  {
   "cell_type": "markdown",
   "metadata": {},
   "source": [
    "## Load The DataFrame"
   ]
  },
  {
   "cell_type": "code",
   "execution_count": null,
   "metadata": {},
   "outputs": [],
   "source": [
    "df = DataFrame(dataset, columns=COLUMN_NAMES)\n",
    "print(f\"There are {df.shape[0]} transactions in the dataset\")"
   ]
  },
  {
   "cell_type": "markdown",
   "metadata": {},
   "source": [
    "## Create Filters\n",
    "- Create list of filters"
   ]
  },
  {
   "cell_type": "code",
   "execution_count": null,
   "metadata": {},
   "outputs": [],
   "source": [
    "AMAZON_CONDITION = StringMatchCondition(\"AMZN\")\n",
    "VENMO_CONDITION = StringMatchCondition(\"AMZN\")\n",
    "filters: list[Filter] = [\n",
    "    Filter(\"Fraud\",             Category.FRAUD, [AMAZON_CONDITION, DateRangeCondition(datetime(2022, 6, 6))]),\n",
    "    Filter(\"Fraud\",             Category.FRAUD, [AMAZON_CONDITION, DateRangeCondition(datetime(2022, 7, 11))]),\n",
    "    Filter(\"Fraud\",             Category.FRAUD, [AMAZON_CONDITION, DateRangeCondition(datetime(2022, 6, 21))]),\n",
    "    Filter(\"Chris\",             Category.WEED, [VENMO_CONDITION, ValueCondition(120.0)]),\n",
    "    Filter(\"Grubhub\",           Category.DELIVERY, [StringMatchCondition(\"GRUBHUB\")]),\n",
    "    Filter(\"Snacks\",            Category.GROCERIES, [StringMatchCondition(\"CHESHIRE GAS\")]),\n",
    "    Filter(\"Steam\",             Category.ENTERTAINMENT, [StringMatchCondition(\"STEAMGAMES\")]),\n",
    "    Filter(\"McCue\",             Category.MORTGAGE, [StringMatchCondition(\"MCCUE\")]),\n",
    "    Filter(\"AllState\",          Category.INSURANCE, [StringMatchCondition(\"ALLSTATE\")]),\n",
    "    Filter(\"Gym\",               Category.FITNESS, [StringMatchCondition(\"TENNIS\")]),\n",
    "    Filter(\"Gym-1\",             Category.FITNESS, [StringMatchCondition(\"EDGE\\sFITNESS\")]),\n",
    "    Filter(\"Savings\",           Category.SAVINGS, [StringMatchCondition(\"transfer\\sto\\sSAV\")]),\n",
    "    Filter(\"Mortgage\",          Category.SAVINGS, [StringMatchCondition(\"transfer\\sto\\sSAV\")]),\n",
    "    Filter(\"PSN\",               Category.ENTERTAINMENT, [StringMatchCondition(\"PLAYSTATION\")]),\n",
    "    Filter(\"Dunkin\",            Category.TAKEOUT, [StringMatchCondition(\"DUNKIN\")]),\n",
    "    Filter(\"Snacks\",            Category.TAKEOUT, [StringMatchCondition(\"SAM'S\\sFOOD\")]),\n",
    "    Filter(\"KeepTheChange\",     Category.SAVINGS, [StringMatchCondition(\"KEEP\\sTHE\\sCHANGE\")]),\n",
    "    Filter(\"SavingsWithdraw\",   Category.SAVINGS, [StringMatchCondition(\"transfer\\sfrom\\sSAV\")]),\n",
    "    Filter(\"Comcast\",           Category.INTERNET, [StringMatchCondition(\"COMCAST\")]),\n",
    "    Filter(\"Att\",               Category.PHONE, [StringMatchCondition(\"ATT\\sDES\")]),\n",
    "    Filter(\"Peapod\",            Category.GROCERIES, [StringMatchCondition(\"PEAPOD\")]),\n",
    "    Filter(\"Patreon\",           Category.ENTERTAINMENT, [StringMatchCondition(\"PATREON\\sMEMBER\")]),\n",
    "    Filter(\"Juli'sBills\",       Category.LOANS, [StringMatchCondition(\"MAGRATH\")]),\n",
    "    Filter(\"Juli'sBills-2\",     Category.LOANS, [StringMatchCondition(\"Magrath\")]),\n",
    "    Filter(\"PetSupplies\",       Category.PETS, [StringMatchCondition(\"PETCO\")]),\n",
    "    Filter(\"HouseWork\",         Category.GAS, [StringMatchCondition(\"SM\\sMECHANICAL\\sSERVICES\")]),\n",
    "    Filter(\"Aresco\",            Category.GROCERIES, [StringMatchCondition(\"ARESCO\")]),\n",
    "    Filter(\"Sunoco\",            Category.GROCERIES, [StringMatchCondition(\"SUNOCO\")]),\n",
    "    Filter(\"Affirm\",            Category.LOANS, [StringMatchCondition(\"AFFIRM\")]),\n",
    "    Filter(\"LifeInsurance\",     Category.INSURANCE, [StringMatchCondition(\"NEW\\sYORK\\sLIFE\\sDES\")]),\n",
    "    Filter(\"Kindle\",            Category.ENTERTAINMENT, [StringMatchCondition(\"KINDLE\")]),\n",
    "    Filter(\"YouTube\",           Category.ENTERTAINMENT, [StringMatchCondition(\"YOUTUBE\")]),\n",
    "    Filter(\"Fuel\",              Category.AUTO, [StringMatchCondition(\"CITGO\")]),\n",
    "    Filter(\"AMEXCreditCard\",    Category.LOANS, [StringMatchCondition(\"AMERICA\\sCREDIT\\sCARD\")]),\n",
    "    Filter(\"MCCreditCard\",      Category.LOANS, [StringMatchCondition(\"PAYPAL\\sEXTRAS\\sMASTERCARD\")]),\n",
    "    Filter(\"Bilaton\",           Category.GROCERIES, [StringMatchCondition(\"STRYVEFOODS\")]),\n",
    "    Filter(\"Theater\",           Category.ENTERTAINMENT, [StringMatchCondition(\"THOMASTON\\sOPERA\\sHOUSE\")]),\n",
    "    Filter(\"Electric\",          Category.ELECTRIC, [StringMatchCondition(\"CL&P\")]),\n",
    "    Filter(\"PriceChopper\",      Category.GROCERIES, [StringMatchCondition(\"PRICE\\sCHOPPER\")]),\n",
    "    Filter(\"IRS\",               Category.TAXES, [StringMatchCondition(\"IRS\\sDES\")]),\n",
    "    Filter(\"Vivint\",            Category.INSURANCE, [StringMatchCondition(\"VIVINT\")]),\n",
    "    Filter(\"Dropbox\",           Category.INTERNET, [StringMatchCondition(\"DROPBOX\")]),\n",
    "    Filter(\"VPN\",               Category.INTERNET, [StringMatchCondition(\"MOZILLACORP\")]),\n",
    "    Filter(\"Fairview\",          Category.GIFTS, [StringMatchCondition(\"FAIRVIEW\")]),\n",
    "    Filter(\"UpgradeLoad\",       Category.LOANS, [StringMatchCondition(\"UPGRADE\")]),\n",
    "    Filter(\"Eversource\",        Category.GAS, [StringMatchCondition(\"EVERSOURCE\")]),\n",
    "    Filter(\"CarLoan\",           Category.LOANS, [StringMatchCondition(\"CAPITAL\\sONE\\sAUTO\")]),\n",
    "    Filter(\"Chris\",             Category.WEED, [StringMatchCondition(\"TO\\sCHRIS\")]),\n",
    "    Filter(\"Aza\",               Category.ENTERTAINMENT, [StringMatchCondition(\"TO\\sAZA\")]),\n",
    "    Filter(\"Stryve-2\",          Category.GROCERIES, [StringMatchCondition(\"STRYVE\")]),\n",
    "    Filter(\"GasStation\",        Category.AUTO, [StringMatchCondition(\"FUEL\\sPLUS\")]),\n",
    "    Filter(\"NetFlix\",           Category.ENTERTAINMENT, [StringMatchCondition(\"Netflix\")]), \n",
    "    Filter(\"AmazonFilter-1\",    Category.ENTERTAINMENT, [AMAZON_CONDITION, ValueCondition(10.62)]), \n",
    "    Filter(\"AmazonFilter-2\",    Category.GROCERIES, [AMAZON_CONDITION, ValueCondition(11.29)]),\n",
    "    Filter(\"AmazonFilter-3\",    Category.ENTERTAINMENT, [AMAZON_CONDITION, ValueCondition(53.15)]),\n",
    "    Filter(\"AmazonFilter-4\",    Category.GROCERIES, [AMAZON_CONDITION, ValueCondition(16.84)]),\n",
    "    Filter(\"AmazonFilter-5\",    Category.WEED, [AMAZON_CONDITION, ValueCondition(14.13)]),\n",
    "    Filter(\"AmazonFilter-6\",    Category.GROCERIES, [AMAZON_CONDITION, ValueCondition(26.12)]),\n",
    "    Filter(\"AmazonFilter-7\",    Category.GROCERIES, [AMAZON_CONDITION, ValueCondition(57.40)]),\n",
    "    Filter(\"AmazonFilter-8\",    Category.GROCERIES, [AMAZON_CONDITION, ValueCondition(19.30)]),\n",
    "    Filter(\"AmazonFilter-9\",    Category.ENTERTAINMENT, [AMAZON_CONDITION, ValueCondition(180.78)]),\n",
    "    Filter(\"AmazonFilter-10\",   Category.ENTERTAINMENT, [AMAZON_CONDITION, ValueCondition(17.01)]), \n",
    "]"
   ]
  },
  {
   "cell_type": "markdown",
   "metadata": {},
   "source": [
    "- Automatically categorize Income as anything > $0.00 \n",
    "- Run uncategorized transactions against filters, matches get category set by filter"
   ]
  },
  {
   "cell_type": "code",
   "execution_count": null,
   "metadata": {},
   "outputs": [],
   "source": [
    "for filter in filters:\n",
    "    uncategorized = df[df.category == Category.UNCATEGORIZED]\n",
    "    if uncategorized.size == 0:\n",
    "        break\n",
    "    matches = filter.match(uncategorized)\n",
    "    matches.category = filter.category\n",
    "    \n",
    "categorized = df[df.category != Category.UNCATEGORIZED]\n",
    "uncategorized = df[df.category == Category.UNCATEGORIZED]\n",
    "print(f\"There are {categorized.size} categorized transactions\")\n",
    "print(f\"There are {uncategorized.size} uncategorized transactions\")"
   ]
  },
  {
   "cell_type": "markdown",
   "metadata": {},
   "source": [
    "## Analysis of Categorized Transactions"
   ]
  },
  {
   "cell_type": "code",
   "execution_count": null,
   "metadata": {},
   "outputs": [],
   "source": [
    "# CATEGORY_HEADER_TEXT = \"Category\"\n",
    "# ZERO_TOTAL_TEXT = \"$0.00\"\n",
    "# with open(PARSED_FILEPATH, \"r+\") as f:\n",
    "#     trx_list = TransactionList.from_json(f.read())\n",
    "\n",
    "# totals_by_category_by_month: dict[Month, dict[Category, float]] = {}\n",
    "# months = set([Month(trx.date.month) for trx in trx_list.transactions])\n",
    "# for month in months:\n",
    "#     totals_by_category = {}    \n",
    "#     for trx in trx_list.transactions:    \n",
    "#         if trx.date.month == month:\n",
    "#             if trx.category not in totals_by_category.keys():\n",
    "#                 totals_by_category[trx.category] = trx.amount\n",
    "#             else:\n",
    "#                 totals_by_category[trx.category] += trx.amount\n",
    "#     totals_by_category_by_month[month] = totals_by_category\n",
    "    \n",
    "# totals_by_category: dict[Category, dict[Month, float]] = {}\n",
    "# for month, totals_for_month in totals_by_category_by_month.items():    \n",
    "#     for category, total in totals_for_month.items():\n",
    "#         if category not in totals_by_category.keys():\n",
    "#             totals_by_category[category] = {Month(month): total}\n",
    "#         else:\n",
    "#             totals_by_category[category][Month(month)] = total\n",
    "\n",
    "# header_row: list[str] = [\n",
    "#     CATEGORY_HEADER_TEXT\n",
    "# ]\n",
    "# for month in months:\n",
    "#     header_row.append(month.name)\n",
    "\n",
    "# data: list[list[str]] = []\n",
    "# for category, month_totals in totals_by_category.items():\n",
    "#     row = [category.value]\n",
    "#     for month in months:\n",
    "#         if month in month_totals.keys():            \n",
    "#             total = month_totals[month]\n",
    "#             row.append(f\"${total:.2f}\")\n",
    "#         else:\n",
    "#             row.append(ZERO_TOTAL_TEXT)\n",
    "#     data.append(row)\n",
    "\n",
    "# DataFrame(data, columns=header_row)"
   ]
  },
  {
   "cell_type": "code",
   "execution_count": null,
   "metadata": {},
   "outputs": [],
   "source": []
  }
 ],
 "metadata": {
  "kernelspec": {
   "display_name": "Python 3.10.5 ('venv': venv)",
   "language": "python",
   "name": "python3"
  },
  "language_info": {
   "codemirror_mode": {
    "name": "ipython",
    "version": 3
   },
   "file_extension": ".py",
   "mimetype": "text/x-python",
   "name": "python",
   "nbconvert_exporter": "python",
   "pygments_lexer": "ipython3",
   "version": "3.10.5"
  },
  "orig_nbformat": 4,
  "vscode": {
   "interpreter": {
    "hash": "3fedda0cfd4d722938d59dcce482b5cc35abb82ff91e9eeedf1ecbb71b29171d"
   }
  }
 },
 "nbformat": 4,
 "nbformat_minor": 2
}
